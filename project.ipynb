{
 "cells": [
  {
   "cell_type": "code",
   "execution_count": 45,
   "metadata": {},
   "outputs": [],
   "source": [
    "from typing import List\n",
    "from collections import namedtuple\n",
    "import time\n",
    "\n",
    "\n",
    "class Point(namedtuple(\"Point\", 'x y')):\n",
    "    def __repr__(self) -> str:\n",
    "        return f'Point{tuple(self)!r}'\n",
    "        \n",
    "\n",
    "\n",
    "class Rectangle(namedtuple(\"Rectangle\", \"lower upper\")):\n",
    "    def __repr__(self) -> str:\n",
    "        return f'Rectangle{tuple(self)!r}'\n",
    "\n",
    "    def is_contains(self, p: Point) -> bool:\n",
    "        return self.lower.x <= p.x <= self.upper.x and self.lower.y <= p.y <= self.upper.y\n",
    "\n",
    "\n",
    "class Node:\n",
    "    def __init__(self, location: Point, left=None, right=None):\n",
    "        self.location = location\n",
    "        self.left = left\n",
    "        self.right = right\n",
    "\n",
    "    def __repr__(self):\n",
    "        return f'{tuple(self)!r}'\n",
    "\n",
    "class KDTree:\n",
    "    \"\"\"k-d tree\"\"\"\n",
    "\n",
    "    def __init__(self):\n",
    "        self._root = None\n",
    "        self._n = 0\n",
    "        self.left = None\n",
    "        self.right = None\n",
    "\n",
    "    def insert_alone(self, p: Point):\n",
    "        \"\"\"insert a point\"\"\"\n",
    "        if self._root is None:\n",
    "            self._root = Node(location=p, left=None, right=None)\n",
    "            return\n",
    "        curr = self._root\n",
    "        dim = 0\n",
    "        while curr:\n",
    "            axis = dim % 2\n",
    "            if getattr(p, 'x' if axis else 'y') < getattr(curr.location, 'x' if axis else 'y'):\n",
    "                if curr.left is None:\n",
    "                    curr.left = Node(location=p, left=None, right=None)\n",
    "                    break\n",
    "                curr = curr.left\n",
    "            else:\n",
    "                if curr.right is None:\n",
    "                    curr.right = Node(location=p, left=None, right=None)\n",
    "                    break\n",
    "                curr = curr.right\n",
    "            dim += 1\n",
    "\n",
    "    def insert(self, p: List[Point]):\n",
    "        for point in p:\n",
    "            self.insert_alone(point)\n",
    "\n",
    "    def range(self, rectangle: Rectangle) -> List[Point]:\n",
    "        \"\"\"range query\"\"\"\n",
    "        pass\n",
    "\n",
    "\n",
    "def range_test():\n",
    "    points = [Point(7, 2), Point(5, 4), Point(9, 6), Point(4, 7), Point(8, 1), Point(2, 3)]\n",
    "    kd = KDTree()\n",
    "    kd.insert(points)\n",
    "    result = kd.range(Rectangle(Point(0, 0), Point(6, 6)))\n",
    "    assert sorted(result) == sorted([Point(2, 3), Point(5, 4)])\n",
    "\n",
    "\n",
    "def performance_test():\n",
    "    points = [Point(x, y) for x in range(1000) for y in range(1000)]\n",
    "\n",
    "    lower = Point(500, 500)\n",
    "    upper = Point(504, 504)\n",
    "    rectangle = Rectangle(lower, upper)\n",
    "    #  naive method\n",
    "    start = int(round(time.time() * 1000))\n",
    "    result1 = [p for p in points if rectangle.is_contains(p)]\n",
    "    end = int(round(time.time() * 1000))\n",
    "    print(f'Naive method: {end - start}ms')\n",
    "\n",
    "    kd = KDTree()\n",
    "    kd.insert(points)\n",
    "    # k-d tree\n",
    "    start = int(round(time.time() * 1000))\n",
    "    result2 = kd.range(rectangle)\n",
    "    end = int(round(time.time() * 1000))\n",
    "    print(f'K-D tree: {end - start}ms')\n",
    "\n",
    "    assert sorted(result1) == sorted(result2)\n",
    "\n",
    "\n",
    "# if __name__ == '__main__':\n",
    "#     range_test()\n",
    "#     performance_test()"
   ]
  },
  {
   "cell_type": "code",
   "execution_count": 47,
   "metadata": {},
   "outputs": [
    {
     "name": "stdout",
     "output_type": "stream",
     "text": [
      "Naive method: 508ms\n"
     ]
    }
   ],
   "source": [
    "kd = KDTree()\n",
    "points = [Point(7, 2), Point(5, 4), Point(9, 6), Point(4, 7), Point(8, 1), Point(2, 3)]\n",
    "performance_test()"
   ]
  },
  {
   "cell_type": "code",
   "execution_count": 15,
   "metadata": {},
   "outputs": [
    {
     "data": {
      "text/plain": [
       "2"
      ]
     },
     "execution_count": 15,
     "metadata": {},
     "output_type": "execute_result"
    }
   ],
   "source": [
    "Point(1,2).y"
   ]
  },
  {
   "cell_type": "code",
   "execution_count": null,
   "metadata": {},
   "outputs": [],
   "source": []
  }
 ],
 "metadata": {
  "kernelspec": {
   "display_name": "ds",
   "language": "python",
   "name": "python3"
  },
  "language_info": {
   "codemirror_mode": {
    "name": "ipython",
    "version": 3
   },
   "file_extension": ".py",
   "mimetype": "text/x-python",
   "name": "python",
   "nbconvert_exporter": "python",
   "pygments_lexer": "ipython3",
   "version": "3.10.8"
  },
  "orig_nbformat": 4,
  "vscode": {
   "interpreter": {
    "hash": "35408d8e9827249a7affc2adc00a86cb2a924921ab9cfff35dd55c96b7335e2d"
   }
  }
 },
 "nbformat": 4,
 "nbformat_minor": 2
}
